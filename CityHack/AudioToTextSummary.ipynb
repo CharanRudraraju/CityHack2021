{
 "cells": [
  {
   "cell_type": "code",
   "execution_count": 1,
   "metadata": {},
   "outputs": [
    {
     "name": "stderr",
     "output_type": "stream",
     "text": [
      "/home/ec2-user/anaconda3/envs/python3/lib/python3.6/site-packages/pydub/utils.py:170: RuntimeWarning: Couldn't find ffmpeg or avconv - defaulting to ffmpeg, but may not work\n",
      "  warn(\"Couldn't find ffmpeg or avconv - defaulting to ffmpeg, but may not work\", RuntimeWarning)\n"
     ]
    }
   ],
   "source": [
    "#speech_recognition is to translate audio to text\n",
    "import speech_recognition as sr \n",
    "\n",
    "#os is to work with directories\n",
    "import os \n",
    "\n",
    "#pydub is to manupulate audio files\n",
    "from pydub import AudioSegment\n",
    "from pydub.silence import split_on_silence\n",
    "import moviepy.editor as mp\n",
    "\n",
    "\n",
    "\n",
    "# create a speech recognition object\n",
    "r = sr.Recognizer()\n",
    "\n",
    "# a function that splits the audio file into chunks\n",
    "# and applies speech recognition\n",
    "def get_large_audio_transcription(path):\n",
    "    \"\"\"\n",
    "    Splitting the large audio file into chunks\n",
    "    and apply speech recognition on each of these chunks\n",
    "    \"\"\"\n",
    "    clip = mp.VideoFileClip(path)\n",
    "    clip.audio.write_audiofile(\"ML.wav\")\n",
    "    # open the audio file using pydub\n",
    "    sound = AudioSegment.from_wav(\"ML.wav\")  \n",
    "    # split audio sound where silence is 700 miliseconds or more and get chunks\n",
    "    chunks = split_on_silence(sound,\n",
    "        # experiment with this value for your target audio file\n",
    "        min_silence_len = 500,\n",
    "        # adjust this per requirement\n",
    "        silence_thresh = sound.dBFS-14,\n",
    "        # keep the silence for 1 second, adjustable as well\n",
    "        keep_silence=500,\n",
    "    )\n",
    "    folder_name = \"audio-chunks\"\n",
    "    # create a directory to store the audio chunks\n",
    "    if not os.path.isdir(folder_name):\n",
    "        os.mkdir(folder_name)\n",
    "    whole_text = \"\"\n",
    "    # process each chunk \n",
    "    for i, audio_chunk in enumerate(chunks, start=1):\n",
    "        # export audio chunk and save it in\n",
    "        # the `folder_name` directory.\n",
    "        chunk_filename = os.path.join(folder_name, f\"chunk{i}.wav\")\n",
    "        audio_chunk.export(chunk_filename, format=\"wav\")\n",
    "        # recognize the chunk\n",
    "        with sr.AudioFile(chunk_filename) as source:\n",
    "            audio = r.record(source)\n",
    "            # try converting it to text\n",
    "            try:\n",
    "                text = r.recognize_google(audio)\n",
    "            except sr.UnknownValueError as e:\n",
    "                print(\"Error:\", str(e))\n",
    "            else:\n",
    "                text = f\"{text.capitalize()}. \"\n",
    "                print(chunk_filename, \":\", text)\n",
    "                whole_text += text\n",
    "    # return the text for all chunks detected\n",
    "    return whole_text"
   ]
  },
  {
   "cell_type": "code",
   "execution_count": 61,
   "metadata": {
    "scrolled": true
   },
   "outputs": [
    {
     "name": "stderr",
     "output_type": "stream",
     "text": [
      "chunk:  17%|█▋        | 5222/30407 [12:21:46<00:09, 2573.14it/s, now=None]\n",
      "chunk:   0%|          | 0/4049 [00:00<?, ?it/s, now=None]\u001b[A\n",
      "chunk:   6%|▋         | 255/4049 [00:00<00:01, 2442.12it/s, now=None]\u001b[A"
     ]
    },
    {
     "name": "stdout",
     "output_type": "stream",
     "text": [
      "MoviePy - Writing audio in ML.wav\n"
     ]
    },
    {
     "name": "stderr",
     "output_type": "stream",
     "text": [
      "\n",
      "chunk:  13%|█▎        | 509/4049 [00:00<00:01, 2470.14it/s, now=None]\u001b[A\n",
      "chunk:  19%|█▉        | 765/4049 [00:00<00:01, 2461.37it/s, now=None]\u001b[A\n",
      "chunk:  25%|██▌       | 1020/4049 [00:00<00:01, 2453.02it/s, now=None]\u001b[A\n",
      "chunk:  31%|███▏      | 1275/4049 [00:00<00:01, 2479.80it/s, now=None]\u001b[A\n",
      "chunk:  38%|███▊      | 1530/4049 [00:00<00:01, 2485.98it/s, now=None]\u001b[A\n",
      "chunk:  44%|████▍     | 1785/4049 [00:00<00:00, 2412.82it/s, now=None]\u001b[A\n",
      "chunk:  50%|████▉     | 2007/4049 [00:00<00:00, 2136.08it/s, now=None]\u001b[A\n",
      "chunk:  56%|█████▌    | 2256/4049 [00:00<00:00, 2229.67it/s, now=None]\u001b[A\n",
      "chunk:  62%|██████▏   | 2514/4049 [00:01<00:00, 2322.94it/s, now=None]\u001b[A\n",
      "chunk:  68%|██████▊   | 2763/4049 [00:01<00:00, 2370.40it/s, now=None]\u001b[A\n",
      "chunk:  74%|███████▍  | 3011/4049 [00:01<00:00, 2402.02it/s, now=None]\u001b[A\n",
      "chunk:  81%|████████  | 3264/4049 [00:01<00:00, 2431.70it/s, now=None]\u001b[A\n",
      "chunk:  87%|████████▋ | 3519/4049 [00:01<00:00, 2442.37it/s, now=None]\u001b[A\n",
      "chunk:  93%|█████████▎| 3774/4049 [00:01<00:00, 2460.01it/s, now=None]\u001b[A\n",
      "chunk: 100%|█████████▉| 4029/4049 [00:01<00:00, 2476.67it/s, now=None]\u001b[A\n",
      "chunk:  17%|█▋        | 5222/30407 [12:21:48<00:09, 2573.14it/s, now=None]"
     ]
    },
    {
     "name": "stdout",
     "output_type": "stream",
     "text": [
      "MoviePy - Done.\n",
      "audio-chunks/chunk1.wav : Working from home. \n",
      "audio-chunks/chunk2.wav : What is working from home. \n",
      "audio-chunks/chunk3.wav : Working from home is in range mean. \n",
      "audio-chunks/chunk4.wav : Whereby the employee performs his or her work from home. \n",
      "audio-chunks/chunk5.wav : Could be a temporary feature in response to special circumstances. \n",
      "audio-chunks/chunk6.wav : It could be a permanent arrangement. \n",
      "audio-chunks/chunk7.wav : However working from home does not automatically vary the working hours or the nature of the world. \n",
      "audio-chunks/chunk8.wav : The employee continues to remain bound by the obligations in the employment contract. \n",
      "audio-chunks/chunk9.wav : And all the employers policies if any. \n",
      "audio-chunks/chunk10.wav : Any change to the employment owns needs to be agreed between the employer and the employee. \n",
      "audio-chunks/chunk11.wav : Covid-19 pandemic in home. \n",
      "audio-chunks/chunk12.wav : Covid-19 pandemic in hong kong is part of the worldwide pandemic caused by the stars covid-19 virus. \n",
      "audio-chunks/chunk13.wav : August 30th january 20-21 hong kong at 10400 confirmed cases. \n",
      "audio-chunks/chunk14.wav : With 9362 recoveries. \n",
      "audio-chunks/chunk15.wav : In view of the kobe. brady education bureau close all kindergarten primary school. \n",
      "audio-chunks/chunk16.wav : Secondary schools and special school starting from the start of the lunar new year holidays until late may. \n",
      "audio-chunks/chunk17.wav : At some point all government employees. \n",
      "audio-chunks/chunk18.wav : But instructed to work from home. \n",
      "audio-chunks/chunk19.wav : Peters also shifted online. \n",
      "audio-chunks/chunk20.wav : Covid-19 won't last forever but online learning is here to stay. \n",
      "audio-chunks/chunk21.wav : This is what the former hong kong finance chief. \n",
      "audio-chunks/chunk22.wav : Infecting the new normal for education. \n",
      "audio-chunks/chunk23.wav : What should lectures be the song. \n",
      "audio-chunks/chunk24.wav : Should online lectures be this long. \n",
      "audio-chunks/chunk25.wav : In his 1971 book what's the use of lectures. \n",
      "audio-chunks/chunk26.wav : What we're doing is like compared the four things teacher cream students would get. \n",
      "audio-chunks/chunk27.wav : From lectures. \n",
      "audio-chunks/chunk28.wav : With what his research showed pupils actually gained only acquisition of information. \n",
      "audio-chunks/chunk29.wav : Learning across boats. \n",
      "audio-chunks/chunk30.wav : The benefits of shorter lectures is well understood by developers of online educational materials. \n",
      "audio-chunks/chunk31.wav : Who have known that students often clickaway or a device to not while watching a recorded plus. \n",
      "audio-chunks/chunk32.wav : The success of khan academy videos almost all pictures under 10 minutes. \n",
      "audio-chunks/chunk33.wav : Dog does the template for creating cutting-edge online learning experiences. \n",
      "audio-chunks/chunk34.wav : Including massive open online courses. \n",
      "audio-chunks/chunk35.wav : So how to make better online content. \n",
      "audio-chunks/chunk36.wav : New computer courses units and lessons with each lesson broken into a set of activities organized by time. \n",
      "audio-chunks/chunk37.wav : Remind how many of those activities require direct instruction wilson discussion or some other bomb. \n",
      "audio-chunks/chunk38.wav : Teacher to student or student-to-student interaction or activity. \n",
      "audio-chunks/chunk39.wav : Research the availability of instructional material. \n",
      "audio-chunks/chunk40.wav : That is what you do with your interviews with experts. \n",
      "audio-chunks/chunk41.wav : I can help students accomplish learning goals that do not involve a teacher talking directly into the camera. \n",
      "CPU times: user 15 s, sys: 522 ms, total: 15.5 s\n",
      "Wall time: 1min 21s\n"
     ]
    }
   ],
   "source": [
    "# change the file name to video\n",
    "%%time\n",
    "text=get_large_audio_transcription(\"ankVideo.mp4\")"
   ]
  },
  {
   "cell_type": "code",
   "execution_count": 63,
   "metadata": {},
   "outputs": [
    {
     "data": {
      "text/plain": [
       "\"Working from home. What is working from home. Working from home is in range mean. Whereby the employee performs his or her work from home. Could be a temporary feature in response to special circumstances. It could be a permanent arrangement. However working from home does not automatically vary the working hours or the nature of the world. The employee continues to remain bound by the obligations in the employment contract. And all the employers policies if any. Any change to the employment owns needs to be agreed between the employer and the employee. Covid-19 pandemic in home. Covid-19 pandemic in hong kong is part of the worldwide pandemic caused by the stars covid-19 virus. August 30th january 20-21 hong kong at 10400 confirmed cases. With 9362 recoveries. In view of the kobe. brady education bureau close all kindergarten primary school. Secondary schools and special school starting from the start of the lunar new year holidays until late may. At some point all government employees. But instructed to work from home. Peters also shifted online. Covid-19 won't last forever but online learning is here to stay. This is what the former hong kong finance chief. Infecting the new normal for education. What should lectures be the song. Should online lectures be this long. In his 1971 book what's the use of lectures. What we're doing is like compared the four things teacher cream students would get. From lectures. With what his research showed pupils actually gained only acquisition of information. Learning across boats. The benefits of shorter lectures is well understood by developers of online educational materials. Who have known that students often clickaway or a device to not while watching a recorded plus. The success of khan academy videos almost all pictures under 10 minutes. Dog does the template for creating cutting-edge online learning experiences. Including massive open online courses. So how to make better online content. New computer courses units and lessons with each lesson broken into a set of activities organized by time. Remind how many of those activities require direct instruction wilson discussion or some other bomb. Teacher to student or student-to-student interaction or activity. Research the availability of instructional material. That is what you do with your interviews with experts. I can help students accomplish learning goals that do not involve a teacher talking directly into the camera. \""
      ]
     },
     "execution_count": 63,
     "metadata": {},
     "output_type": "execute_result"
    }
   ],
   "source": [
    "text"
   ]
  },
  {
   "cell_type": "code",
   "execution_count": 65,
   "metadata": {},
   "outputs": [
    {
     "data": {
      "text/plain": [
       "\"What is working from home.\\nWhat is working from home.\\nWorking from home is in range mean.\\nWhereby the employee performs his or her work from home.\\nBut instructed to work from home.\\nCovid-19 won't last forever but online learning is here to stay.\\nShould online lectures be this long.\\nThe benefits of shorter lectures is well understood by developers of online educational materials.\\nDog does the template for creating cutting-edge online learning experiences.\\nNew computer courses units and lessons with each lesson broken into a set of activities organized by time.\\nResearch the availability of instructional material.\\nI can help students accomplish learning goals that do not involve a teacher talking directly into the camera.\""
      ]
     },
     "execution_count": 65,
     "metadata": {},
     "output_type": "execute_result"
    }
   ],
   "source": [
    "from gensim.summarization import summarize\n",
    "from gensim.summarization import keywords\n",
    "summarize(text,ratio=0.3)"
   ]
  },
  {
   "cell_type": "code",
   "execution_count": 72,
   "metadata": {},
   "outputs": [
    {
     "data": {
      "text/plain": [
       "['online',\n",
       " 'covid',\n",
       " 'pandemic',\n",
       " 'schools',\n",
       " 'learning',\n",
       " 'teacher',\n",
       " 'employees',\n",
       " 'new',\n",
       " 'student',\n",
       " 'employer',\n",
       " 'educational',\n",
       " 'activity',\n",
       " 'home',\n",
       " 'academy',\n",
       " 'instructional',\n",
       " 'owns',\n",
       " 'chief',\n",
       " 'hong',\n",
       " 'kong',\n",
       " 'primary',\n",
       " 'special',\n",
       " 'actually']"
      ]
     },
     "execution_count": 72,
     "metadata": {},
     "output_type": "execute_result"
    }
   ],
   "source": [
    "keywords(text,lemmatize=True).split()"
   ]
  },
  {
   "cell_type": "code",
   "execution_count": null,
   "metadata": {},
   "outputs": [],
   "source": []
  }
 ],
 "metadata": {
  "kernelspec": {
   "display_name": "conda_python3",
   "language": "python",
   "name": "conda_python3"
  },
  "language_info": {
   "codemirror_mode": {
    "name": "ipython",
    "version": 3
   },
   "file_extension": ".py",
   "mimetype": "text/x-python",
   "name": "python",
   "nbconvert_exporter": "python",
   "pygments_lexer": "ipython3",
   "version": "3.6.10"
  }
 },
 "nbformat": 4,
 "nbformat_minor": 4
}
